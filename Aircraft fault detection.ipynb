{
  "nbformat": 4,
  "nbformat_minor": 0,
  "metadata": {
    "colab": {
      "provenance": []
    },
    "kernelspec": {
      "name": "python3",
      "display_name": "Python 3"
    },
    "language_info": {
      "name": "python"
    }
  },
  "cells": [
    {
      "cell_type": "code",
      "source": [
        "import pandas as pd\n",
        "\n",
        "# Step 1: Create the dataset\n",
        "data = {\n",
        "    'unit': [1]*5 + [2]*5,\n",
        "    'time': [1, 2, 3, 4, 5, 1, 2, 3, 4, 5],\n",
        "    'sensor_1': [100, 98, 97, 95, 92, 99, 98, 96, 93, 90],\n",
        "    'sensor_2': [20, 19, 19, 18, 17, 21, 20, 19, 18, 17]\n",
        "}\n",
        "df = pd.DataFrame(data)\n",
        "\n",
        "# Step 2: Add RUL\n",
        "df['max_time'] = df.groupby('unit')['time'].transform('max')\n",
        "df['RUL'] = df['max_time'] - df['time']\n",
        "\n",
        "# Step 3: Add binary failure label: if RUL <= 1, mark as failing\n",
        "df['label'] = df['RUL'].apply(lambda x: 1 if x <= 1 else 0)\n",
        "\n",
        "# Show result\n",
        "print(df)\n"
      ],
      "metadata": {
        "colab": {
          "base_uri": "https://localhost:8080/"
        },
        "id": "kGOg5BSN6UaG",
        "outputId": "9386afaf-4a80-4e46-b0f5-accf56964eeb"
      },
      "execution_count": 17,
      "outputs": [
        {
          "output_type": "stream",
          "name": "stdout",
          "text": [
            "   unit  time  sensor_1  sensor_2  max_time  RUL  label\n",
            "0     1     1       100        20         5    4      0\n",
            "1     1     2        98        19         5    3      0\n",
            "2     1     3        97        19         5    2      0\n",
            "3     1     4        95        18         5    1      1\n",
            "4     1     5        92        17         5    0      1\n",
            "5     2     1        99        21         5    4      0\n",
            "6     2     2        98        20         5    3      0\n",
            "7     2     3        96        19         5    2      0\n",
            "8     2     4        93        18         5    1      1\n",
            "9     2     5        90        17         5    0      1\n"
          ]
        }
      ]
    },
    {
      "cell_type": "code",
      "source": [
        "from sklearn.model_selection import train_test_split\n",
        "from sklearn.ensemble import RandomForestClassifier\n",
        "from sklearn.metrics import classification_report\n",
        "\n",
        "# Features and labels\n",
        "X = df[['sensor_1', 'sensor_2']]\n",
        "y = df['label']\n",
        "\n",
        "# Split data\n",
        "X_train, X_test, y_train, y_test = train_test_split(X, y, test_size=0.3, random_state=42)\n",
        "\n",
        "# Train model\n",
        "model = RandomForestClassifier(n_estimators=100, random_state=42)\n",
        "model.fit(X_train, y_train)\n",
        "\n",
        "# Predict\n",
        "y_pred = model.predict(X_test)\n",
        "\n",
        "# Evaluate\n",
        "print(\"\\nModel Evaluation:\\n\")\n",
        "print(classification_report(y_test, y_pred))\n"
      ],
      "metadata": {
        "colab": {
          "base_uri": "https://localhost:8080/"
        },
        "id": "YAgD1TAe6t1a",
        "outputId": "84c08d3a-34a9-4aa4-f1cd-79b641c87e1e"
      },
      "execution_count": 18,
      "outputs": [
        {
          "output_type": "stream",
          "name": "stdout",
          "text": [
            "\n",
            "Model Evaluation:\n",
            "\n",
            "              precision    recall  f1-score   support\n",
            "\n",
            "           0       1.00      1.00      1.00         2\n",
            "           1       1.00      1.00      1.00         1\n",
            "\n",
            "    accuracy                           1.00         3\n",
            "   macro avg       1.00      1.00      1.00         3\n",
            "weighted avg       1.00      1.00      1.00         3\n",
            "\n"
          ]
        }
      ]
    },
    {
      "cell_type": "markdown",
      "source": [
        "# Aircraft Engine Fault Prediction 🚀\n",
        "\n",
        "### 👨‍✈️ Built by Ricardo Joseph  \n",
        "_Mission: Apply ML to military aviation. Detect faults before engine failure._\n",
        "\n",
        "---\n",
        "\n",
        "## 📦 1. Data Simulation\n",
        "\n",
        "We simulate engine sensors for multiple aircraft units.\n",
        "\n",
        "---\n",
        "\n",
        "## 🔍 2. RUL Calculation (Remaining Useful Life)\n",
        "\n",
        "We calculate how much life each engine has left.\n",
        "\n",
        "---\n",
        "\n",
        "## 🏷️ 3. Labeling the Data\n",
        "\n",
        "We label failing engines (1) and healthy ones (0).\n",
        "\n",
        "---\n",
        "\n",
        "## 🤖 4. ML Model: Random Forest\n",
        "\n",
        "We train a model to predict if an engine will fail.\n",
        "\n",
        "---\n",
        "\n",
        "## 📈 5. Sensor Behavior Visualization\n",
        "\n",
        "Shows how sensor readings degrade over time.\n",
        "\n",
        "---\n",
        "\n",
        "## ✅ 6. Evaluation\n",
        "\n",
        "Model performance is shown with accuracy and F1 score.\n",
        "\n",
        "---\n",
        "\n",
        "## ✈️ Mission Summary\n",
        "\n",
        "> This system simulates early fault detection in aircraft engines.  \n",
        "> Using sensor data + ML, it predicts failures in advance.  \n",
        "> Built for my mission to apply ML in defense aviation systems.\n"
      ],
      "metadata": {
        "id": "TApWwS6t8c6a"
      }
    }
  ]
}